{
 "cells": [
  {
   "cell_type": "markdown",
   "id": "29b06f6f",
   "metadata": {},
   "source": [
    "# Item-Based Collaborative Filtering\n",
    "\n",
    "* Import Dataset and Preprocessing\n",
    "\n",
    "* Create User Movie DataFrame\n",
    "\n",
    "* Create Item-Based Recommender\n",
    "\n",
    "* Process Functionalization"
   ]
  },
  {
   "cell_type": "markdown",
   "id": "70fb23a8",
   "metadata": {},
   "source": [
    "# Import Necessary Libraries"
   ]
  },
  {
   "cell_type": "code",
   "execution_count": 1,
   "id": "fc552069",
   "metadata": {},
   "outputs": [],
   "source": [
    "import numpy as np\n",
    "import pandas as pd\n",
    "pd.set_option(\"display.max_columns\",None)\n",
    "pd.set_option(\"display.max_rows\",None)\n",
    "pd.set_option(\"display.width\",500)\n",
    "pd.set_option(\"display.expand_frame_repr\",False)"
   ]
  },
  {
   "cell_type": "markdown",
   "id": "0b7de52a",
   "metadata": {},
   "source": [
    "# Import Dataset"
   ]
  },
  {
   "cell_type": "code",
   "execution_count": 2,
   "id": "bc7de787",
   "metadata": {},
   "outputs": [
    {
     "data": {
      "text/html": [
       "<div>\n",
       "<style scoped>\n",
       "    .dataframe tbody tr th:only-of-type {\n",
       "        vertical-align: middle;\n",
       "    }\n",
       "\n",
       "    .dataframe tbody tr th {\n",
       "        vertical-align: top;\n",
       "    }\n",
       "\n",
       "    .dataframe thead th {\n",
       "        text-align: right;\n",
       "    }\n",
       "</style>\n",
       "<table border=\"1\" class=\"dataframe\">\n",
       "  <thead>\n",
       "    <tr style=\"text-align: right;\">\n",
       "      <th></th>\n",
       "      <th>movieId</th>\n",
       "      <th>title</th>\n",
       "      <th>genres</th>\n",
       "      <th>userId</th>\n",
       "      <th>rating</th>\n",
       "      <th>timestamp</th>\n",
       "    </tr>\n",
       "  </thead>\n",
       "  <tbody>\n",
       "    <tr>\n",
       "      <th>0</th>\n",
       "      <td>1</td>\n",
       "      <td>Toy Story (1995)</td>\n",
       "      <td>Adventure|Animation|Children|Comedy|Fantasy</td>\n",
       "      <td>3.0</td>\n",
       "      <td>4.0</td>\n",
       "      <td>9.449194e+08</td>\n",
       "    </tr>\n",
       "    <tr>\n",
       "      <th>1</th>\n",
       "      <td>1</td>\n",
       "      <td>Toy Story (1995)</td>\n",
       "      <td>Adventure|Animation|Children|Comedy|Fantasy</td>\n",
       "      <td>6.0</td>\n",
       "      <td>5.0</td>\n",
       "      <td>8.582755e+08</td>\n",
       "    </tr>\n",
       "    <tr>\n",
       "      <th>2</th>\n",
       "      <td>1</td>\n",
       "      <td>Toy Story (1995)</td>\n",
       "      <td>Adventure|Animation|Children|Comedy|Fantasy</td>\n",
       "      <td>8.0</td>\n",
       "      <td>4.0</td>\n",
       "      <td>8.339819e+08</td>\n",
       "    </tr>\n",
       "    <tr>\n",
       "      <th>3</th>\n",
       "      <td>1</td>\n",
       "      <td>Toy Story (1995)</td>\n",
       "      <td>Adventure|Animation|Children|Comedy|Fantasy</td>\n",
       "      <td>10.0</td>\n",
       "      <td>4.0</td>\n",
       "      <td>9.434979e+08</td>\n",
       "    </tr>\n",
       "    <tr>\n",
       "      <th>4</th>\n",
       "      <td>1</td>\n",
       "      <td>Toy Story (1995)</td>\n",
       "      <td>Adventure|Animation|Children|Comedy|Fantasy</td>\n",
       "      <td>11.0</td>\n",
       "      <td>4.5</td>\n",
       "      <td>1.230859e+09</td>\n",
       "    </tr>\n",
       "  </tbody>\n",
       "</table>\n",
       "</div>"
      ],
      "text/plain": [
       "   movieId             title                                       genres  userId  rating     timestamp\n",
       "0        1  Toy Story (1995)  Adventure|Animation|Children|Comedy|Fantasy     3.0     4.0  9.449194e+08\n",
       "1        1  Toy Story (1995)  Adventure|Animation|Children|Comedy|Fantasy     6.0     5.0  8.582755e+08\n",
       "2        1  Toy Story (1995)  Adventure|Animation|Children|Comedy|Fantasy     8.0     4.0  8.339819e+08\n",
       "3        1  Toy Story (1995)  Adventure|Animation|Children|Comedy|Fantasy    10.0     4.0  9.434979e+08\n",
       "4        1  Toy Story (1995)  Adventure|Animation|Children|Comedy|Fantasy    11.0     4.5  1.230859e+09"
      ]
     },
     "execution_count": 2,
     "metadata": {},
     "output_type": "execute_result"
    }
   ],
   "source": [
    "movies = pd.read_csv(\"movies.csv\")\n",
    "ratings = pd.read_csv(\"ratings.csv\")\n",
    "df = movies.merge(ratings, how=\"left\", on=\"movieId\")\n",
    "df.head()"
   ]
  },
  {
   "cell_type": "markdown",
   "id": "02dde192",
   "metadata": {},
   "source": [
    "# Create User Movie DataFrame"
   ]
  },
  {
   "cell_type": "code",
   "execution_count": 3,
   "id": "e513056c",
   "metadata": {},
   "outputs": [
    {
     "data": {
      "text/plain": [
       "(20000797, 6)"
      ]
     },
     "execution_count": 3,
     "metadata": {},
     "output_type": "execute_result"
    }
   ],
   "source": [
    "df.shape # yaklaşık 20 milyon yorum vardır"
   ]
  },
  {
   "cell_type": "code",
   "execution_count": 4,
   "id": "21608bb5",
   "metadata": {},
   "outputs": [
    {
     "data": {
      "text/plain": [
       "27262"
      ]
     },
     "execution_count": 4,
     "metadata": {},
     "output_type": "execute_result"
    }
   ],
   "source": [
    "df[\"title\"].nunique() # yaklaşık 27 bin eşsiz flim vardır"
   ]
  },
  {
   "cell_type": "code",
   "execution_count": 5,
   "id": "d9c5ded3",
   "metadata": {},
   "outputs": [
    {
     "data": {
      "text/plain": [
       "Pulp Fiction (1994)                 67310\n",
       "Forrest Gump (1994)                 66172\n",
       "Shawshank Redemption, The (1994)    63366\n",
       "Silence of the Lambs, The (1991)    63299\n",
       "Jurassic Park (1993)                59715\n",
       "Name: title, dtype: int64"
      ]
     },
     "execution_count": 5,
     "metadata": {},
     "output_type": "execute_result"
    }
   ],
   "source": [
    "df[\"title\"].value_counts().head() # her filime kaç defa yorum yapılmış"
   ]
  },
  {
   "cell_type": "markdown",
   "id": "44459bf1",
   "metadata": {},
   "source": [
    "#### Dikkat: Bazı filimlere çok az yorum ve beğeni vardır bunları hem çalışma zamanı maliyetinden hem de çok fazla bir bilgi içermediğinden dolayı çalışma dışı bırakabiliriz. Bu çalışmamızda 1000 altında yorum ve beğeni alan filimleri çalışma dışı bırakıyoruz."
   ]
  },
  {
   "cell_type": "code",
   "execution_count": 6,
   "id": "dd49ce55",
   "metadata": {},
   "outputs": [],
   "source": [
    "rating_counts = pd.DataFrame(df[\"title\"].value_counts())"
   ]
  },
  {
   "cell_type": "code",
   "execution_count": 7,
   "id": "0b39af9a",
   "metadata": {},
   "outputs": [
    {
     "data": {
      "text/html": [
       "<div>\n",
       "<style scoped>\n",
       "    .dataframe tbody tr th:only-of-type {\n",
       "        vertical-align: middle;\n",
       "    }\n",
       "\n",
       "    .dataframe tbody tr th {\n",
       "        vertical-align: top;\n",
       "    }\n",
       "\n",
       "    .dataframe thead th {\n",
       "        text-align: right;\n",
       "    }\n",
       "</style>\n",
       "<table border=\"1\" class=\"dataframe\">\n",
       "  <thead>\n",
       "    <tr style=\"text-align: right;\">\n",
       "      <th></th>\n",
       "      <th>title</th>\n",
       "    </tr>\n",
       "  </thead>\n",
       "  <tbody>\n",
       "    <tr>\n",
       "      <th>Pulp Fiction (1994)</th>\n",
       "      <td>67310</td>\n",
       "    </tr>\n",
       "    <tr>\n",
       "      <th>Forrest Gump (1994)</th>\n",
       "      <td>66172</td>\n",
       "    </tr>\n",
       "    <tr>\n",
       "      <th>Shawshank Redemption, The (1994)</th>\n",
       "      <td>63366</td>\n",
       "    </tr>\n",
       "    <tr>\n",
       "      <th>Silence of the Lambs, The (1991)</th>\n",
       "      <td>63299</td>\n",
       "    </tr>\n",
       "    <tr>\n",
       "      <th>Jurassic Park (1993)</th>\n",
       "      <td>59715</td>\n",
       "    </tr>\n",
       "  </tbody>\n",
       "</table>\n",
       "</div>"
      ],
      "text/plain": [
       "                                  title\n",
       "Pulp Fiction (1994)               67310\n",
       "Forrest Gump (1994)               66172\n",
       "Shawshank Redemption, The (1994)  63366\n",
       "Silence of the Lambs, The (1991)  63299\n",
       "Jurassic Park (1993)              59715"
      ]
     },
     "execution_count": 7,
     "metadata": {},
     "output_type": "execute_result"
    }
   ],
   "source": [
    "rating_counts.head()"
   ]
  },
  {
   "cell_type": "code",
   "execution_count": 8,
   "id": "95b2e469",
   "metadata": {
    "scrolled": true
   },
   "outputs": [
    {
     "data": {
      "text/html": [
       "<div>\n",
       "<style scoped>\n",
       "    .dataframe tbody tr th:only-of-type {\n",
       "        vertical-align: middle;\n",
       "    }\n",
       "\n",
       "    .dataframe tbody tr th {\n",
       "        vertical-align: top;\n",
       "    }\n",
       "\n",
       "    .dataframe thead th {\n",
       "        text-align: right;\n",
       "    }\n",
       "</style>\n",
       "<table border=\"1\" class=\"dataframe\">\n",
       "  <thead>\n",
       "    <tr style=\"text-align: right;\">\n",
       "      <th></th>\n",
       "      <th>title</th>\n",
       "    </tr>\n",
       "  </thead>\n",
       "  <tbody>\n",
       "    <tr>\n",
       "      <th>Bear, The (Ours, L') (1988)</th>\n",
       "      <td>999</td>\n",
       "    </tr>\n",
       "    <tr>\n",
       "      <th>Rosewood (1997)</th>\n",
       "      <td>999</td>\n",
       "    </tr>\n",
       "    <tr>\n",
       "      <th>Ted (2012)</th>\n",
       "      <td>999</td>\n",
       "    </tr>\n",
       "    <tr>\n",
       "      <th>One Night at McCool's (2001)</th>\n",
       "      <td>999</td>\n",
       "    </tr>\n",
       "    <tr>\n",
       "      <th>Marked for Death (1990)</th>\n",
       "      <td>998</td>\n",
       "    </tr>\n",
       "  </tbody>\n",
       "</table>\n",
       "</div>"
      ],
      "text/plain": [
       "                              title\n",
       "Bear, The (Ours, L') (1988)     999\n",
       "Rosewood (1997)                 999\n",
       "Ted (2012)                      999\n",
       "One Night at McCool's (2001)    999\n",
       "Marked for Death (1990)         998"
      ]
     },
     "execution_count": 8,
     "metadata": {},
     "output_type": "execute_result"
    }
   ],
   "source": [
    "rating_counts[rating_counts[\"title\"] < 1000].head()"
   ]
  },
  {
   "cell_type": "code",
   "execution_count": 9,
   "id": "46e05e18",
   "metadata": {},
   "outputs": [
    {
     "data": {
      "text/plain": [
       "(24103, 1)"
      ]
     },
     "execution_count": 9,
     "metadata": {},
     "output_type": "execute_result"
    }
   ],
   "source": [
    "rating_counts[rating_counts[\"title\"] < 1000].shape # 24 bin filimin yorumu ve beğenisi 1000 altında"
   ]
  },
  {
   "cell_type": "code",
   "execution_count": 10,
   "id": "46548c54",
   "metadata": {},
   "outputs": [],
   "source": [
    "rare_movies = rating_counts[rating_counts[\"title\"] < 1000].index"
   ]
  },
  {
   "cell_type": "code",
   "execution_count": 12,
   "id": "21dc2554",
   "metadata": {},
   "outputs": [
    {
     "data": {
      "text/plain": [
       "Index(['Bear, The (Ours, L') (1988)', 'Rosewood (1997)', 'Ted (2012)', 'One Night at McCool's (2001)', 'Marked for Death (1990)'], dtype='object')"
      ]
     },
     "execution_count": 12,
     "metadata": {},
     "output_type": "execute_result"
    }
   ],
   "source": [
    "rare_movies[0:5]"
   ]
  },
  {
   "cell_type": "code",
   "execution_count": 13,
   "id": "2decdcea",
   "metadata": {},
   "outputs": [],
   "source": [
    "common_movies = df[~df[\"title\"].isin(rare_movies)]"
   ]
  },
  {
   "cell_type": "code",
   "execution_count": 14,
   "id": "fd057efa",
   "metadata": {},
   "outputs": [
    {
     "data": {
      "text/plain": [
       "(17766015, 6)"
      ]
     },
     "execution_count": 14,
     "metadata": {},
     "output_type": "execute_result"
    }
   ],
   "source": [
    "common_movies.shape"
   ]
  },
  {
   "cell_type": "code",
   "execution_count": 15,
   "id": "6ee574c5",
   "metadata": {},
   "outputs": [
    {
     "data": {
      "text/plain": [
       "(20000797, 6)"
      ]
     },
     "execution_count": 15,
     "metadata": {},
     "output_type": "execute_result"
    }
   ],
   "source": [
    "df.shape"
   ]
  },
  {
   "cell_type": "code",
   "execution_count": 16,
   "id": "7b31ab70",
   "metadata": {},
   "outputs": [
    {
     "data": {
      "text/plain": [
       "3159"
      ]
     },
     "execution_count": 16,
     "metadata": {},
     "output_type": "execute_result"
    }
   ],
   "source": [
    "common_movies[\"title\"].nunique()"
   ]
  },
  {
   "cell_type": "code",
   "execution_count": 17,
   "id": "259968aa",
   "metadata": {},
   "outputs": [
    {
     "data": {
      "text/plain": [
       "27262"
      ]
     },
     "execution_count": 17,
     "metadata": {},
     "output_type": "execute_result"
    }
   ],
   "source": [
    "df[\"title\"].nunique() "
   ]
  },
  {
   "cell_type": "markdown",
   "id": "7b1b4dee",
   "metadata": {},
   "source": [
    "yani yaklaşık 3159 tane filme 17 milyon rating verilmişken, 24 bin filme yaklaşık 3 milyon verilmiştir ve buda yaptığımız işlemin ne kadra önemli olduunu gösteriyor. Açıkçası az rating alan filmlere odaklanmaktansa ve maliyeti yükseltemektense daha fazla oy ve yorum alanlara odaklanmak mantıklı olacaktır."
   ]
  },
  {
   "cell_type": "code",
   "execution_count": 18,
   "id": "b99c996f",
   "metadata": {},
   "outputs": [],
   "source": [
    "user_movie_df = common_movies.pivot_table(index=[\"userId\"], columns=[\"title\"], values=\"rating\")"
   ]
  },
  {
   "cell_type": "code",
   "execution_count": 19,
   "id": "272ef5f0",
   "metadata": {},
   "outputs": [
    {
     "data": {
      "text/plain": [
       "(138493, 3159)"
      ]
     },
     "execution_count": 19,
     "metadata": {},
     "output_type": "execute_result"
    }
   ],
   "source": [
    "user_movie_df.shape"
   ]
  },
  {
   "cell_type": "markdown",
   "id": "1905f0bb",
   "metadata": {},
   "source": [
    "# Create Item-Based Recommender"
   ]
  },
  {
   "cell_type": "code",
   "execution_count": 22,
   "id": "7b4d4833",
   "metadata": {},
   "outputs": [
    {
     "data": {
      "text/plain": [
       "title\n",
       "12 Angry Men (1957)                    1.000000\n",
       "Witness for the Prosecution (1957)     0.503740\n",
       "Inherit the Wind (1960)                0.440727\n",
       "City Lights (1931)                     0.412992\n",
       "Mr. Smith Goes to Washington (1939)    0.412903\n",
       "dtype: float64"
      ]
     },
     "execution_count": 22,
     "metadata": {},
     "output_type": "execute_result"
    }
   ],
   "source": [
    "movie_name = \"12 Angry Men (1957)\"\n",
    "movie_name = user_movie_df[movie_name]\n",
    "user_movie_df.corrwith(movie_name).sort_values(ascending=False).head()"
   ]
  },
  {
   "cell_type": "markdown",
   "id": "be3ba050",
   "metadata": {},
   "source": [
    "### Rastgele film seçerek öneride bulunmak"
   ]
  },
  {
   "cell_type": "code",
   "execution_count": 24,
   "id": "a64ecf64",
   "metadata": {},
   "outputs": [
    {
     "data": {
      "text/plain": [
       "title\n",
       "Naked Gun: From the Files of Police Squad!, The (1988)    1.000000\n",
       "Naked Gun 2 1/2: The Smell of Fear, The (1991)            0.767789\n",
       "Naked Gun 33 1/3: The Final Insult (1994)                 0.663927\n",
       "Airplane! (1980)                                          0.602663\n",
       "Hot Shots! (1991)                                         0.568975\n",
       "dtype: float64"
      ]
     },
     "execution_count": 24,
     "metadata": {},
     "output_type": "execute_result"
    }
   ],
   "source": [
    "movie_name = pd.Series(user_movie_df.columns).sample(1).values[0]\n",
    "movie_name = user_movie_df[movie_name]\n",
    "user_movie_df.corrwith(movie_name).sort_values(ascending=False).head()"
   ]
  },
  {
   "cell_type": "markdown",
   "id": "bb24007f",
   "metadata": {},
   "source": [
    "### Belli bir anahtara göre film seçmek ve öneride bulunmak"
   ]
  },
  {
   "cell_type": "code",
   "execution_count": 25,
   "id": "d5f94c57",
   "metadata": {},
   "outputs": [],
   "source": [
    "def check_film(keyword, user_movie_df):\n",
    "    return [col for col in user_movie_df.columns if keyword in col]"
   ]
  },
  {
   "cell_type": "code",
   "execution_count": 26,
   "id": "0dbac4a8",
   "metadata": {},
   "outputs": [
    {
     "data": {
      "text/plain": [
       "['Deconstructing Harry (1997)',\n",
       " 'Dirty Harry (1971)',\n",
       " 'Dumb and Dumberer: When Harry Met Lloyd (2003)',\n",
       " 'Harry Potter and the Chamber of Secrets (2002)',\n",
       " 'Harry Potter and the Deathly Hallows: Part 1 (2010)',\n",
       " 'Harry Potter and the Deathly Hallows: Part 2 (2011)',\n",
       " 'Harry Potter and the Goblet of Fire (2005)',\n",
       " 'Harry Potter and the Half-Blood Prince (2009)',\n",
       " 'Harry Potter and the Order of the Phoenix (2007)',\n",
       " 'Harry Potter and the Prisoner of Azkaban (2004)',\n",
       " \"Harry Potter and the Sorcerer's Stone (a.k.a. Harry Potter and the Philosopher's Stone) (2001)\",\n",
       " 'Harry and the Hendersons (1987)',\n",
       " 'Trouble with Harry, The (1955)',\n",
       " 'When Harry Met Sally... (1989)',\n",
       " \"Who's Harry Crumb? (1989)\"]"
      ]
     },
     "execution_count": 26,
     "metadata": {},
     "output_type": "execute_result"
    }
   ],
   "source": [
    "check_film(\"Harry\", user_movie_df)"
   ]
  },
  {
   "cell_type": "code",
   "execution_count": 27,
   "id": "e92ffa7a",
   "metadata": {},
   "outputs": [
    {
     "data": {
      "text/plain": [
       "title\n",
       "Harry Potter and the Chamber of Secrets (2002)                                                    1.000000\n",
       "Harry Potter and the Sorcerer's Stone (a.k.a. Harry Potter and the Philosopher's Stone) (2001)    0.861691\n",
       "Harry Potter and the Goblet of Fire (2005)                                                        0.777049\n",
       "Harry Potter and the Prisoner of Azkaban (2004)                                                   0.768082\n",
       "Harry Potter and the Order of the Phoenix (2007)                                                  0.748770\n",
       "dtype: float64"
      ]
     },
     "execution_count": 27,
     "metadata": {},
     "output_type": "execute_result"
    }
   ],
   "source": [
    "movie_name = \"Harry Potter and the Chamber of Secrets (2002)\"\n",
    "movie_name = user_movie_df[movie_name]\n",
    "user_movie_df.corrwith(movie_name).sort_values(ascending=False).head()"
   ]
  },
  {
   "cell_type": "markdown",
   "id": "5cd266a2",
   "metadata": {},
   "source": [
    "# Process Functionalization"
   ]
  },
  {
   "cell_type": "code",
   "execution_count": 28,
   "id": "4afb8b18",
   "metadata": {},
   "outputs": [],
   "source": [
    "def data_prep(data_movie, data_rating, on=\"movieId\"):\n",
    "    movies = pd.read_csv(data_movie)\n",
    "    ratings = pd.read_csv(data_rating)\n",
    "    df = movies.merge(ratings, how=\"left\", on=on)\n",
    "    return df"
   ]
  },
  {
   "cell_type": "code",
   "execution_count": 29,
   "id": "5a9ded3a",
   "metadata": {},
   "outputs": [],
   "source": [
    "df = data_prep(\"movies.csv\", \"ratings.csv\")"
   ]
  },
  {
   "cell_type": "code",
   "execution_count": 30,
   "id": "db54f7b2",
   "metadata": {},
   "outputs": [],
   "source": [
    "def create_user_movie(dataframe):\n",
    "    rating_counts = pd.DataFrame(dataframe[\"title\"].value_counts())\n",
    "    rare_movies = rating_counts[rating_counts[\"title\"] < 1000].index\n",
    "    common_movies = dataframe[~dataframe[\"title\"].isin(rare_movies)]\n",
    "    user_movie_df = common_movies.pivot_table(index=[\"userId\"], columns=[\"title\"], values=\"rating\")\n",
    "    return user_movie_df"
   ]
  },
  {
   "cell_type": "code",
   "execution_count": 31,
   "id": "798b3d3e",
   "metadata": {},
   "outputs": [],
   "source": [
    "user_movie_df = create_user_movie(df)"
   ]
  },
  {
   "cell_type": "code",
   "execution_count": 32,
   "id": "7a3414ab",
   "metadata": {},
   "outputs": [],
   "source": [
    "def item_based_recommender(movie_name, user_movie_df, head=10):\n",
    "    movie_name = user_movie_df[movie_name]\n",
    "    return user_movie_df.corrwith(movie_name).sort_values(ascending=False).head(head)"
   ]
  },
  {
   "cell_type": "code",
   "execution_count": 33,
   "id": "a30dade9",
   "metadata": {},
   "outputs": [
    {
     "data": {
      "text/plain": [
       "title\n",
       "City Lights (1931)                                                                                      1.000000\n",
       "Modern Times (1936)                                                                                     0.732096\n",
       "Gold Rush, The (1925)                                                                                   0.712192\n",
       "General, The (1926)                                                                                     0.675491\n",
       "Ikiru (1952)                                                                                            0.661034\n",
       "Kid, The (1921)                                                                                         0.618361\n",
       "Grand Illusion (La grande illusion) (1937)                                                              0.603178\n",
       "Paths of Glory (1957)                                                                                   0.596833\n",
       "Bicycle Thieves (a.k.a. The Bicycle Thief) (a.k.a. The Bicycle Thieves) (Ladri di biciclette) (1948)    0.591828\n",
       "Rashomon (Rashômon) (1950)                                                                              0.570062\n",
       "dtype: float64"
      ]
     },
     "execution_count": 33,
     "metadata": {},
     "output_type": "execute_result"
    }
   ],
   "source": [
    "item_based_recommender(\"City Lights (1931)\", user_movie_df)"
   ]
  },
  {
   "cell_type": "code",
   "execution_count": null,
   "id": "79cb6a0a",
   "metadata": {},
   "outputs": [],
   "source": []
  }
 ],
 "metadata": {
  "kernelspec": {
   "display_name": "Python 3 (ipykernel)",
   "language": "python",
   "name": "python3"
  },
  "language_info": {
   "codemirror_mode": {
    "name": "ipython",
    "version": 3
   },
   "file_extension": ".py",
   "mimetype": "text/x-python",
   "name": "python",
   "nbconvert_exporter": "python",
   "pygments_lexer": "ipython3",
   "version": "3.11.4"
  }
 },
 "nbformat": 4,
 "nbformat_minor": 5
}
